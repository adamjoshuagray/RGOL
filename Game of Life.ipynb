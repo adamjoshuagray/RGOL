{
 "cells": [
  {
   "cell_type": "markdown",
   "metadata": {
    "collapsed": true
   },
   "source": [
    "Game of Life\n",
    "===\n",
    "\n",
    "This is Conway's Game of life with a little bit of randomization added. We then render the result with matplitlib's animation tools."
   ]
  },
  {
   "cell_type": "code",
   "execution_count": null,
   "metadata": {
    "collapsed": true
   },
   "outputs": [],
   "source": [
    "import numpy as np\n",
    "import matplotlib.pyplot as plt\n",
    "import matplotlib.animation as animation\n",
    "%matplotlib inline"
   ]
  },
  {
   "cell_type": "markdown",
   "metadata": {},
   "source": [
    "__Randomization Parameters__\n",
    "\n",
    "k_1: $ \\frac{1}{k_1} $ probability that a square with only one neighbour comes alive.\n",
    "\n",
    "k_2: $ \\frac{1}{k_2} $ probability that a square with two neighbours dies.\n",
    "\n",
    "k_3: $ \\frac{1}{k_3} $ probability that a square with three neighbour dies.\n",
    "\n",
    "k_4: $ \\frac{1}{k_4} $ probability that a square with four neighbours comes alive."
   ]
  },
  {
   "cell_type": "code",
   "execution_count": null,
   "metadata": {
    "collapsed": true
   },
   "outputs": [],
   "source": [
    "k_1 = 1000\n",
    "k_2 = 1000\n",
    "k_3 = 1000\n",
    "k_4 = 1000"
   ]
  },
  {
   "cell_type": "markdown",
   "metadata": {},
   "source": [
    "__Initial layout parameters__\n",
    "\n",
    "width: The width of the board in pixels (squares).\n",
    "\n",
    "height: The height of the board in pixels (squares).\n",
    "\n",
    "q: $ \\frac{1}{q} $ probability that a square is initially alive."
   ]
  },
  {
   "cell_type": "code",
   "execution_count": null,
   "metadata": {
    "collapsed": true
   },
   "outputs": [],
   "source": [
    "width = 1024\n",
    "height = 512\n",
    "q = 10"
   ]
  },
  {
   "cell_type": "markdown",
   "metadata": {},
   "source": [
    "__The initial state of the board__"
   ]
  },
  {
   "cell_type": "code",
   "execution_count": null,
   "metadata": {
    "collapsed": true
   },
   "outputs": [],
   "source": [
    "Z = (np.random.randint(0,q,(height,width)) == 0).astype(int)"
   ]
  },
  {
   "cell_type": "markdown",
   "metadata": {},
   "source": [
    "__Plotting parameters__\n",
    "\n",
    "dpi: The dpi to use when rendering the plots\n",
    "\n",
    "history: Display an average color for a square over the last *history* steps. A setting of one will display the usual game of life output, and higher values will show grey trails as things move around the board.\n",
    "\n",
    "frames: The number of iteratiions (and hence frames) to create the animation of.\n",
    "\n",
    "output_file: The place to save the file to. Note that this will be relative to the working directory of the ipython notebook instance that you are running."
   ]
  },
  {
   "cell_type": "code",
   "execution_count": null,
   "metadata": {
    "collapsed": true
   },
   "outputs": [],
   "source": [
    "dpi = 72.0\n",
    "\n",
    "history = 50\n",
    "\n",
    "frames = 1000\n",
    "\n",
    "output_file = \"im.mp4\""
   ]
  },
  {
   "cell_type": "markdown",
   "metadata": {},
   "source": [
    "__The iteration step__\n",
    "\n",
    "    Z: Should be a matrix of ones and zeros which represents the state of the board. The board will then be iterated and returned as a matrix of ones and zeros.\n",
    "    \n",
    "    This function will add in the randomness according to the parameters listed above."
   ]
  },
  {
   "cell_type": "code",
   "execution_count": null,
   "metadata": {
    "collapsed": false
   },
   "outputs": [],
   "source": [
    "def iterate(Z):\n",
    "    # Count neighbours\n",
    "    N = (Z[0:-2,0:-2] + Z[0:-2,1:-1] + Z[0:-2,2:] +\n",
    "         Z[1:-1,0:-2]                + Z[1:-1,2:] +\n",
    "         Z[2:  ,0:-2] + Z[2:  ,1:-1] + Z[2:  ,2:])\n",
    "\n",
    "    # Apply rules\n",
    "    birth = (N==3) & (Z[1:-1,1:-1]==0)\n",
    "    survive = ((N==2) | (N==3)) & (Z[1:-1,1:-1]==1)\n",
    "    # Add randomess\n",
    "    R_1 = (N==1) * (np.random.randint(0,k_1, np.array(Z.shape) - np.array([2,2])) == 0)\n",
    "    R_2 = (N==2) * (np.random.randint(0,k_2, np.array(Z.shape) - np.array([2,2])) == 0)\n",
    "    R_3 = (N==3) * (np.random.randint(0,k_3, np.array(Z.shape) - np.array([2,2])) == 0)\n",
    "    R_4 = (N==4) * (np.random.randint(0,k_4, np.array(Z.shape) - np.array([2,2])) == 0)   \n",
    "    Z[...] = 0\n",
    "    Z[1:-1,1:-1][birth | survive] = 1\n",
    "    Z[1:-1,1:-1][R_1] = 1\n",
    "    Z[1:-1,1:-1][R_2] = 0\n",
    "    Z[1:-1,1:-1][R_3] = 0\n",
    "    Z[1:-1,1:-1][R_2] = 1\n",
    "    return Z"
   ]
  },
  {
   "cell_type": "markdown",
   "metadata": {},
   "source": [
    "__Plot iteration__\n",
    "\n",
    "This will iterate the plot. This function is passed to animation.FuncAnimation."
   ]
  },
  {
   "cell_type": "code",
   "execution_count": null,
   "metadata": {
    "collapsed": false
   },
   "outputs": [],
   "source": [
    "ars = []\n",
    "def iterate_plot(*args):\n",
    "    global Z\n",
    "    global ars\n",
    "    global history\n",
    "    Z = iterate(Z)\n",
    "    ars.append(Z.copy())\n",
    "    if len(ars) > history:\n",
    "        ars.pop(0)\n",
    "    im.set_array(sum(ars) / 50.)\n",
    "    return im\n"
   ]
  },
  {
   "cell_type": "markdown",
   "metadata": {},
   "source": [
    "__Produce the plot__\n"
   ]
  },
  {
   "cell_type": "code",
   "execution_count": null,
   "metadata": {
    "collapsed": false
   },
   "outputs": [],
   "source": [
    "size = np.array(Z.shape)\n",
    "figsize= size[1]/float(dpi),size[0]/float(dpi)\n",
    "fig = plt.figure(figsize=figsize, dpi=dpi, facecolor=\"white\")\n",
    "fig.add_axes([0.0, 0.0, 1.0, 1.0], frameon=False)\n",
    "plt.xticks([]), plt.yticks([])\n",
    "\n",
    "im = plt.imshow(Z,interpolation='nearest', cmap=plt.cm.gray_r)\n",
    "ani = animation.FuncAnimation(fig, iterate_plot, interval=50, frames=frames)\n",
    "ani.save(output_file, codec=\"libx264\")\n",
    "plt.show()"
   ]
  },
  {
   "cell_type": "code",
   "execution_count": null,
   "metadata": {
    "collapsed": true
   },
   "outputs": [],
   "source": []
  }
 ],
 "metadata": {
  "kernelspec": {
   "display_name": "Python 2",
   "language": "python",
   "name": "python2"
  },
  "language_info": {
   "codemirror_mode": {
    "name": "ipython",
    "version": 2
   },
   "file_extension": ".py",
   "mimetype": "text/x-python",
   "name": "python",
   "nbconvert_exporter": "python",
   "pygments_lexer": "ipython2",
   "version": "2.7.9"
  }
 },
 "nbformat": 4,
 "nbformat_minor": 0
}
